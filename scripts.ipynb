{
 "cells": [
  {
   "cell_type": "code",
   "execution_count": 1,
   "id": "4506d38b",
   "metadata": {
    "scrolled": false
   },
   "outputs": [],
   "source": [
    "from selenium import webdriver\n",
    "from selenium.webdriver import Chrome\n",
    "from selenium.webdriver.common.by import By\n",
    "import pyperclip"
   ]
  },
  {
   "cell_type": "code",
   "execution_count": 2,
   "id": "6db283f6",
   "metadata": {},
   "outputs": [],
   "source": [
    "def convert_dictionary(data):\n",
    "    key_value_pairs = data.split(\"\\n\")\n",
    "\n",
    "    # Step 2: Split each key-value pair by colon \":\"\n",
    "    key_value_pairs = [pair.split(\": \") for pair in key_value_pairs]\n",
    "\n",
    "    # Step 3: Create an empty dictionary and add the key-value pairs\n",
    "    dictionary = {}\n",
    "    for pair in key_value_pairs:\n",
    "        dictionary[pair[0]] = pair[1]\n",
    "    return dictionary"
   ]
  },
  {
   "cell_type": "code",
   "execution_count": 3,
   "id": "fe86e7d3",
   "metadata": {},
   "outputs": [],
   "source": [
    "driver=Chrome()\n",
    "driver.get('https://www.swimcloud.com/login/')\n",
    "driver.maximize_window()"
   ]
  },
  {
   "cell_type": "code",
   "execution_count": 4,
   "id": "1ea4b206",
   "metadata": {},
   "outputs": [],
   "source": [
    "username= driver.find_element(By.XPATH, \"//input[@id='id_username']\").send_keys('')\n",
    "password= driver.find_element(By.XPATH, \"//input[@id='id_password']\").send_keys('')\n",
    "submit_btn=driver.find_element(By.XPATH, \"//button[@type='submit']\")\n",
    "submit_btn.click()"
   ]
  },
  {
   "cell_type": "code",
   "execution_count": 5,
   "id": "e593f92d",
   "metadata": {},
   "outputs": [],
   "source": [
    "recruiting_btn=driver.find_element(By.XPATH, \"//a[@class='c-nav__item '][5]\")\n",
    "recruiting_btn.click()"
   ]
  },
  {
   "cell_type": "code",
   "execution_count": 6,
   "id": "020ab4af",
   "metadata": {},
   "outputs": [],
   "source": [
    "select_year_and_gender=driver.find_elements(By.XPATH, \"//select[@class='form-control c-recruiting-filter']\")"
   ]
  },
  {
   "cell_type": "code",
   "execution_count": 7,
   "id": "187e7b83",
   "metadata": {
    "scrolled": true
   },
   "outputs": [
    {
     "ename": "StaleElementReferenceException",
     "evalue": "Message: stale element reference: element is not attached to the page document\n  (Session info: chrome=111.0.5563.147)\nStacktrace:\nBacktrace:\n\t(No symbol) [0x004DDCE3]\n\t(No symbol) [0x004739D1]\n\t(No symbol) [0x00384DA8]\n\t(No symbol) [0x003876FB]\n\t(No symbol) [0x003875D0]\n\t(No symbol) [0x00387850]\n\t(No symbol) [0x003AFDF8]\n\t(No symbol) [0x003B03AB]\n\t(No symbol) [0x003A87D1]\n\t(No symbol) [0x003CAF14]\n\t(No symbol) [0x003A8726]\n\t(No symbol) [0x003CB224]\n\t(No symbol) [0x003DD57C]\n\t(No symbol) [0x003CACC6]\n\t(No symbol) [0x003A6F68]\n\t(No symbol) [0x003A80CD]\n\tGetHandleVerifier [0x00753832+2506274]\n\tGetHandleVerifier [0x00789794+2727300]\n\tGetHandleVerifier [0x0078E36C+2746716]\n\tGetHandleVerifier [0x00586690+617600]\n\t(No symbol) [0x0047C712]\n\t(No symbol) [0x00481FF8]\n\t(No symbol) [0x004820DB]\n\t(No symbol) [0x0048C63B]\n\tBaseThreadInitThunk [0x76D97D69+25]\n\tRtlInitializeExceptionChain [0x77DDB74B+107]\n\tRtlClearBits [0x77DDB6CF+191]\n",
     "output_type": "error",
     "traceback": [
      "\u001b[1;31m---------------------------------------------------------------------------\u001b[0m",
      "\u001b[1;31mStaleElementReferenceException\u001b[0m            Traceback (most recent call last)",
      "\u001b[1;32m~\\AppData\\Local\\Temp\\ipykernel_19412\\3164812093.py\u001b[0m in \u001b[0;36m<module>\u001b[1;34m\u001b[0m\n\u001b[0;32m      4\u001b[0m \u001b[0mtime\u001b[0m\u001b[1;33m.\u001b[0m\u001b[0msleep\u001b[0m\u001b[1;33m(\u001b[0m\u001b[1;36m1\u001b[0m\u001b[1;33m)\u001b[0m\u001b[1;33m\u001b[0m\u001b[1;33m\u001b[0m\u001b[0m\n\u001b[0;32m      5\u001b[0m \u001b[1;31m#select gender\u001b[0m\u001b[1;33m\u001b[0m\u001b[1;33m\u001b[0m\u001b[0m\n\u001b[1;32m----> 6\u001b[1;33m \u001b[0mselect_year_and_gender\u001b[0m\u001b[1;33m[\u001b[0m\u001b[1;36m1\u001b[0m\u001b[1;33m]\u001b[0m\u001b[1;33m.\u001b[0m\u001b[0mfind_element\u001b[0m\u001b[1;33m(\u001b[0m\u001b[0mBy\u001b[0m\u001b[1;33m.\u001b[0m\u001b[0mXPATH\u001b[0m\u001b[1;33m,\u001b[0m \u001b[1;34m\"//option[text()='Men']\"\u001b[0m\u001b[1;33m)\u001b[0m\u001b[1;33m.\u001b[0m\u001b[0mclick\u001b[0m\u001b[1;33m(\u001b[0m\u001b[1;33m)\u001b[0m\u001b[1;33m\u001b[0m\u001b[1;33m\u001b[0m\u001b[0m\n\u001b[0m\u001b[0;32m      7\u001b[0m \u001b[0mtime\u001b[0m\u001b[1;33m.\u001b[0m\u001b[0msleep\u001b[0m\u001b[1;33m(\u001b[0m\u001b[1;36m1\u001b[0m\u001b[1;33m)\u001b[0m\u001b[1;33m\u001b[0m\u001b[1;33m\u001b[0m\u001b[0m\n",
      "\u001b[1;32m~\\Anaconda3\\lib\\site-packages\\selenium\\webdriver\\remote\\webelement.py\u001b[0m in \u001b[0;36mfind_element\u001b[1;34m(self, by, value)\u001b[0m\n\u001b[0;32m    423\u001b[0m             \u001b[0mvalue\u001b[0m \u001b[1;33m=\u001b[0m \u001b[1;34mf'[name=\"{value}\"]'\u001b[0m\u001b[1;33m\u001b[0m\u001b[1;33m\u001b[0m\u001b[0m\n\u001b[0;32m    424\u001b[0m \u001b[1;33m\u001b[0m\u001b[0m\n\u001b[1;32m--> 425\u001b[1;33m         \u001b[1;32mreturn\u001b[0m \u001b[0mself\u001b[0m\u001b[1;33m.\u001b[0m\u001b[0m_execute\u001b[0m\u001b[1;33m(\u001b[0m\u001b[0mCommand\u001b[0m\u001b[1;33m.\u001b[0m\u001b[0mFIND_CHILD_ELEMENT\u001b[0m\u001b[1;33m,\u001b[0m \u001b[1;33m{\u001b[0m\u001b[1;34m\"using\"\u001b[0m\u001b[1;33m:\u001b[0m \u001b[0mby\u001b[0m\u001b[1;33m,\u001b[0m \u001b[1;34m\"value\"\u001b[0m\u001b[1;33m:\u001b[0m \u001b[0mvalue\u001b[0m\u001b[1;33m}\u001b[0m\u001b[1;33m)\u001b[0m\u001b[1;33m[\u001b[0m\u001b[1;34m\"value\"\u001b[0m\u001b[1;33m]\u001b[0m\u001b[1;33m\u001b[0m\u001b[1;33m\u001b[0m\u001b[0m\n\u001b[0m\u001b[0;32m    426\u001b[0m \u001b[1;33m\u001b[0m\u001b[0m\n\u001b[0;32m    427\u001b[0m     \u001b[1;32mdef\u001b[0m \u001b[0mfind_elements\u001b[0m\u001b[1;33m(\u001b[0m\u001b[0mself\u001b[0m\u001b[1;33m,\u001b[0m \u001b[0mby\u001b[0m\u001b[1;33m=\u001b[0m\u001b[0mBy\u001b[0m\u001b[1;33m.\u001b[0m\u001b[0mID\u001b[0m\u001b[1;33m,\u001b[0m \u001b[0mvalue\u001b[0m\u001b[1;33m=\u001b[0m\u001b[1;32mNone\u001b[0m\u001b[1;33m)\u001b[0m \u001b[1;33m->\u001b[0m \u001b[0mlist\u001b[0m\u001b[1;33m[\u001b[0m\u001b[0mWebElement\u001b[0m\u001b[1;33m]\u001b[0m\u001b[1;33m:\u001b[0m\u001b[1;33m\u001b[0m\u001b[1;33m\u001b[0m\u001b[0m\n",
      "\u001b[1;32m~\\Anaconda3\\lib\\site-packages\\selenium\\webdriver\\remote\\webelement.py\u001b[0m in \u001b[0;36m_execute\u001b[1;34m(self, command, params)\u001b[0m\n\u001b[0;32m    401\u001b[0m             \u001b[0mparams\u001b[0m \u001b[1;33m=\u001b[0m \u001b[1;33m{\u001b[0m\u001b[1;33m}\u001b[0m\u001b[1;33m\u001b[0m\u001b[1;33m\u001b[0m\u001b[0m\n\u001b[0;32m    402\u001b[0m         \u001b[0mparams\u001b[0m\u001b[1;33m[\u001b[0m\u001b[1;34m\"id\"\u001b[0m\u001b[1;33m]\u001b[0m \u001b[1;33m=\u001b[0m \u001b[0mself\u001b[0m\u001b[1;33m.\u001b[0m\u001b[0m_id\u001b[0m\u001b[1;33m\u001b[0m\u001b[1;33m\u001b[0m\u001b[0m\n\u001b[1;32m--> 403\u001b[1;33m         \u001b[1;32mreturn\u001b[0m \u001b[0mself\u001b[0m\u001b[1;33m.\u001b[0m\u001b[0m_parent\u001b[0m\u001b[1;33m.\u001b[0m\u001b[0mexecute\u001b[0m\u001b[1;33m(\u001b[0m\u001b[0mcommand\u001b[0m\u001b[1;33m,\u001b[0m \u001b[0mparams\u001b[0m\u001b[1;33m)\u001b[0m\u001b[1;33m\u001b[0m\u001b[1;33m\u001b[0m\u001b[0m\n\u001b[0m\u001b[0;32m    404\u001b[0m \u001b[1;33m\u001b[0m\u001b[0m\n\u001b[0;32m    405\u001b[0m     \u001b[1;32mdef\u001b[0m \u001b[0mfind_element\u001b[0m\u001b[1;33m(\u001b[0m\u001b[0mself\u001b[0m\u001b[1;33m,\u001b[0m \u001b[0mby\u001b[0m\u001b[1;33m=\u001b[0m\u001b[0mBy\u001b[0m\u001b[1;33m.\u001b[0m\u001b[0mID\u001b[0m\u001b[1;33m,\u001b[0m \u001b[0mvalue\u001b[0m\u001b[1;33m=\u001b[0m\u001b[1;32mNone\u001b[0m\u001b[1;33m)\u001b[0m \u001b[1;33m->\u001b[0m \u001b[0mWebElement\u001b[0m\u001b[1;33m:\u001b[0m\u001b[1;33m\u001b[0m\u001b[1;33m\u001b[0m\u001b[0m\n",
      "\u001b[1;32m~\\Anaconda3\\lib\\site-packages\\selenium\\webdriver\\remote\\webdriver.py\u001b[0m in \u001b[0;36mexecute\u001b[1;34m(self, driver_command, params)\u001b[0m\n\u001b[0;32m    438\u001b[0m         \u001b[0mresponse\u001b[0m \u001b[1;33m=\u001b[0m \u001b[0mself\u001b[0m\u001b[1;33m.\u001b[0m\u001b[0mcommand_executor\u001b[0m\u001b[1;33m.\u001b[0m\u001b[0mexecute\u001b[0m\u001b[1;33m(\u001b[0m\u001b[0mdriver_command\u001b[0m\u001b[1;33m,\u001b[0m \u001b[0mparams\u001b[0m\u001b[1;33m)\u001b[0m\u001b[1;33m\u001b[0m\u001b[1;33m\u001b[0m\u001b[0m\n\u001b[0;32m    439\u001b[0m         \u001b[1;32mif\u001b[0m \u001b[0mresponse\u001b[0m\u001b[1;33m:\u001b[0m\u001b[1;33m\u001b[0m\u001b[1;33m\u001b[0m\u001b[0m\n\u001b[1;32m--> 440\u001b[1;33m             \u001b[0mself\u001b[0m\u001b[1;33m.\u001b[0m\u001b[0merror_handler\u001b[0m\u001b[1;33m.\u001b[0m\u001b[0mcheck_response\u001b[0m\u001b[1;33m(\u001b[0m\u001b[0mresponse\u001b[0m\u001b[1;33m)\u001b[0m\u001b[1;33m\u001b[0m\u001b[1;33m\u001b[0m\u001b[0m\n\u001b[0m\u001b[0;32m    441\u001b[0m             \u001b[0mresponse\u001b[0m\u001b[1;33m[\u001b[0m\u001b[1;34m\"value\"\u001b[0m\u001b[1;33m]\u001b[0m \u001b[1;33m=\u001b[0m \u001b[0mself\u001b[0m\u001b[1;33m.\u001b[0m\u001b[0m_unwrap_value\u001b[0m\u001b[1;33m(\u001b[0m\u001b[0mresponse\u001b[0m\u001b[1;33m.\u001b[0m\u001b[0mget\u001b[0m\u001b[1;33m(\u001b[0m\u001b[1;34m\"value\"\u001b[0m\u001b[1;33m,\u001b[0m \u001b[1;32mNone\u001b[0m\u001b[1;33m)\u001b[0m\u001b[1;33m)\u001b[0m\u001b[1;33m\u001b[0m\u001b[1;33m\u001b[0m\u001b[0m\n\u001b[0;32m    442\u001b[0m             \u001b[1;32mreturn\u001b[0m \u001b[0mresponse\u001b[0m\u001b[1;33m\u001b[0m\u001b[1;33m\u001b[0m\u001b[0m\n",
      "\u001b[1;32m~\\Anaconda3\\lib\\site-packages\\selenium\\webdriver\\remote\\errorhandler.py\u001b[0m in \u001b[0;36mcheck_response\u001b[1;34m(self, response)\u001b[0m\n\u001b[0;32m    243\u001b[0m                 \u001b[0malert_text\u001b[0m \u001b[1;33m=\u001b[0m \u001b[0mvalue\u001b[0m\u001b[1;33m[\u001b[0m\u001b[1;34m\"alert\"\u001b[0m\u001b[1;33m]\u001b[0m\u001b[1;33m.\u001b[0m\u001b[0mget\u001b[0m\u001b[1;33m(\u001b[0m\u001b[1;34m\"text\"\u001b[0m\u001b[1;33m)\u001b[0m\u001b[1;33m\u001b[0m\u001b[1;33m\u001b[0m\u001b[0m\n\u001b[0;32m    244\u001b[0m             \u001b[1;32mraise\u001b[0m \u001b[0mexception_class\u001b[0m\u001b[1;33m(\u001b[0m\u001b[0mmessage\u001b[0m\u001b[1;33m,\u001b[0m \u001b[0mscreen\u001b[0m\u001b[1;33m,\u001b[0m \u001b[0mstacktrace\u001b[0m\u001b[1;33m,\u001b[0m \u001b[0malert_text\u001b[0m\u001b[1;33m)\u001b[0m  \u001b[1;31m# type: ignore[call-arg]  # mypy is not smart enough here\u001b[0m\u001b[1;33m\u001b[0m\u001b[1;33m\u001b[0m\u001b[0m\n\u001b[1;32m--> 245\u001b[1;33m         \u001b[1;32mraise\u001b[0m \u001b[0mexception_class\u001b[0m\u001b[1;33m(\u001b[0m\u001b[0mmessage\u001b[0m\u001b[1;33m,\u001b[0m \u001b[0mscreen\u001b[0m\u001b[1;33m,\u001b[0m \u001b[0mstacktrace\u001b[0m\u001b[1;33m)\u001b[0m\u001b[1;33m\u001b[0m\u001b[1;33m\u001b[0m\u001b[0m\n\u001b[0m",
      "\u001b[1;31mStaleElementReferenceException\u001b[0m: Message: stale element reference: element is not attached to the page document\n  (Session info: chrome=111.0.5563.147)\nStacktrace:\nBacktrace:\n\t(No symbol) [0x004DDCE3]\n\t(No symbol) [0x004739D1]\n\t(No symbol) [0x00384DA8]\n\t(No symbol) [0x003876FB]\n\t(No symbol) [0x003875D0]\n\t(No symbol) [0x00387850]\n\t(No symbol) [0x003AFDF8]\n\t(No symbol) [0x003B03AB]\n\t(No symbol) [0x003A87D1]\n\t(No symbol) [0x003CAF14]\n\t(No symbol) [0x003A8726]\n\t(No symbol) [0x003CB224]\n\t(No symbol) [0x003DD57C]\n\t(No symbol) [0x003CACC6]\n\t(No symbol) [0x003A6F68]\n\t(No symbol) [0x003A80CD]\n\tGetHandleVerifier [0x00753832+2506274]\n\tGetHandleVerifier [0x00789794+2727300]\n\tGetHandleVerifier [0x0078E36C+2746716]\n\tGetHandleVerifier [0x00586690+617600]\n\t(No symbol) [0x0047C712]\n\t(No symbol) [0x00481FF8]\n\t(No symbol) [0x004820DB]\n\t(No symbol) [0x0048C63B]\n\tBaseThreadInitThunk [0x76D97D69+25]\n\tRtlInitializeExceptionChain [0x77DDB74B+107]\n\tRtlClearBits [0x77DDB6CF+191]\n"
     ]
    }
   ],
   "source": [
    "import time\n",
    "# select_year\n",
    "select_year_and_gender[0].find_element(By.XPATH, \"//option[text()='2025']\").click()\n",
    "time.sleep(1)\n",
    "#select gender\n",
    "select_year_and_gender[1].find_element(By.XPATH, \"//option[text()='Men']\").click()\n",
    "time.sleep(1)"
   ]
  },
  {
   "cell_type": "code",
   "execution_count": null,
   "id": "72e6538d",
   "metadata": {},
   "outputs": [],
   "source": []
  },
  {
   "cell_type": "code",
   "execution_count": 8,
   "id": "15983f5a",
   "metadata": {},
   "outputs": [
    {
     "ename": "NameError",
     "evalue": "name 'b' is not defined",
     "output_type": "error",
     "traceback": [
      "\u001b[1;31m---------------------------------------------------------------------------\u001b[0m",
      "\u001b[1;31mNameError\u001b[0m                                 Traceback (most recent call last)",
      "\u001b[1;32m~\\AppData\\Local\\Temp\\ipykernel_19412\\3537189227.py\u001b[0m in \u001b[0;36m<module>\u001b[1;34m\u001b[0m\n\u001b[1;32m----> 1\u001b[1;33m \u001b[0mb\u001b[0m\u001b[1;33m.\u001b[0m\u001b[0mfind_element_by_xpath\u001b[0m\u001b[1;33m(\u001b[0m\u001b[1;34m\"//select[@name='element_name']/option[text()='option_text']\"\u001b[0m\u001b[1;33m)\u001b[0m\u001b[1;33m.\u001b[0m\u001b[0mclick\u001b[0m\u001b[1;33m(\u001b[0m\u001b[1;33m)\u001b[0m\u001b[1;33m\u001b[0m\u001b[1;33m\u001b[0m\u001b[0m\n\u001b[0m",
      "\u001b[1;31mNameError\u001b[0m: name 'b' is not defined"
     ]
    }
   ],
   "source": [
    "b.find_element_by_xpath(\"//select[@name='element_name']/option[text()='option_text']\").click()"
   ]
  },
  {
   "cell_type": "code",
   "execution_count": null,
   "id": "8939e52e",
   "metadata": {},
   "outputs": [],
   "source": []
  },
  {
   "cell_type": "code",
   "execution_count": null,
   "id": "97c61477",
   "metadata": {},
   "outputs": [],
   "source": []
  },
  {
   "cell_type": "code",
   "execution_count": null,
   "id": "62aa412f",
   "metadata": {},
   "outputs": [],
   "source": []
  },
  {
   "cell_type": "code",
   "execution_count": 121,
   "id": "3a775697",
   "metadata": {},
   "outputs": [],
   "source": [
    "ranking_btn=driver.find_element(By.XPATH, \"//a[@href='/recruiting/rankings/']\")\n",
    "ranking_btn.click()"
   ]
  },
  {
   "cell_type": "code",
   "execution_count": 122,
   "id": "356708ea",
   "metadata": {},
   "outputs": [],
   "source": [
    "all_profiles=driver.find_elements(By.XPATH, \"//a[@class='u-text-semi']\")"
   ]
  },
  {
   "cell_type": "code",
   "execution_count": 123,
   "id": "27695322",
   "metadata": {},
   "outputs": [],
   "source": [
    "all_profiles[0].click()"
   ]
  },
  {
   "cell_type": "code",
   "execution_count": 9,
   "id": "71125f59",
   "metadata": {},
   "outputs": [],
   "source": [
    "state=driver.find_elements(By.XPATH, \"//ul[@class='o-list-inline o-list-inline--dotted']/li\")"
   ]
  },
  {
   "cell_type": "code",
   "execution_count": 12,
   "id": "1a64af14",
   "metadata": {},
   "outputs": [
    {
     "data": {
      "text/plain": [
       "['Crozet', ' VA']"
      ]
     },
     "execution_count": 12,
     "metadata": {},
     "output_type": "execute_result"
    }
   ],
   "source": [
    "state[0].text.split(',')"
   ]
  },
  {
   "cell_type": "code",
   "execution_count": 13,
   "id": "56487820",
   "metadata": {},
   "outputs": [
    {
     "data": {
      "text/plain": [
       "'Cavalier Aquatics/Piedmont Family YMCA'"
      ]
     },
     "execution_count": 13,
     "metadata": {},
     "output_type": "execute_result"
    }
   ],
   "source": [
    "state[1].text"
   ]
  },
  {
   "cell_type": "code",
   "execution_count": 14,
   "id": "d8098f0e",
   "metadata": {},
   "outputs": [],
   "source": [
    "instagram=driver.find_element(By.XPATH, \"//a[@class='btn-icon-plain']\").get_attribute('href')"
   ]
  },
  {
   "cell_type": "code",
   "execution_count": 15,
   "id": "359ca103",
   "metadata": {},
   "outputs": [
    {
     "data": {
      "text/plain": [
       "'https://instagram.com/thomas_heilman_'"
      ]
     },
     "execution_count": 15,
     "metadata": {},
     "output_type": "execute_result"
    }
   ],
   "source": [
    "instagram"
   ]
  },
  {
   "cell_type": "code",
   "execution_count": 16,
   "id": "e3eebcb5",
   "metadata": {},
   "outputs": [],
   "source": [
    "\n",
    "name=driver.find_element(By.XPATH, \"//h1[@class='c-toolbar__title u-flex u-flex-align-items-center']\")\n"
   ]
  },
  {
   "cell_type": "code",
   "execution_count": 18,
   "id": "917c5b45",
   "metadata": {
    "scrolled": true
   },
   "outputs": [
    {
     "data": {
      "text/plain": [
       "['Thomas', 'Heilman']"
      ]
     },
     "execution_count": 18,
     "metadata": {},
     "output_type": "execute_result"
    }
   ],
   "source": [
    "name.text.split(\" \")"
   ]
  },
  {
   "cell_type": "code",
   "execution_count": 91,
   "id": "d82fa641",
   "metadata": {},
   "outputs": [],
   "source": [
    "power_index=driver.find_element(By.XPATH, \"//p[contains(@title,'rank')]\")\n",
    "pp=power_index.find_elements(By.XPATH,\"//a[@class='c-list-bar__description']\")"
   ]
  },
  {
   "cell_type": "code",
   "execution_count": 95,
   "id": "1fbd478e",
   "metadata": {},
   "outputs": [
    {
     "data": {
      "text/plain": [
       "'1st'"
      ]
     },
     "execution_count": 95,
     "metadata": {},
     "output_type": "execute_result"
    }
   ],
   "source": [
    "pp[2].text"
   ]
  },
  {
   "cell_type": "code",
   "execution_count": 139,
   "id": "ed0c24d7",
   "metadata": {},
   "outputs": [],
   "source": [
    "pp=driver.find_elements(By.XPATH,\"//ul[@class='c-list-bar']/li\")"
   ]
  },
  {
   "cell_type": "code",
   "execution_count": 140,
   "id": "c41320b4",
   "metadata": {},
   "outputs": [
    {
     "data": {
      "text/plain": [
       "3"
      ]
     },
     "execution_count": 140,
     "metadata": {},
     "output_type": "execute_result"
    }
   ],
   "source": [
    "len(pp[1:])"
   ]
  },
  {
   "cell_type": "code",
   "execution_count": 141,
   "id": "a6793411",
   "metadata": {},
   "outputs": [
    {
     "data": {
      "text/plain": [
       "'2024 rank\\n1st'"
      ]
     },
     "execution_count": 141,
     "metadata": {},
     "output_type": "execute_result"
    }
   ],
   "source": [
    "pp[2].text"
   ]
  },
  {
   "cell_type": "code",
   "execution_count": 145,
   "id": "e30b3be0",
   "metadata": {},
   "outputs": [
    {
     "name": "stdout",
     "output_type": "stream",
     "text": [
      "1st\n"
     ]
    }
   ],
   "source": [
    "if(len(pp[1:])==3):\n",
    "    national_rank=pp[1].text.split('\\n')[1]\n",
    "    state_rank=pp[2].text.split('\\n')[1]\n",
    "    classs=pp[-1].text.split('\\n')[1]\n",
    "    print(national_rank)"
   ]
  },
  {
   "cell_type": "code",
   "execution_count": 146,
   "id": "6bef8bb3",
   "metadata": {},
   "outputs": [
    {
     "data": {
      "text/plain": [
       "True"
      ]
     },
     "execution_count": 146,
     "metadata": {},
     "output_type": "execute_result"
    }
   ],
   "source": [
    "pp[2].text.startswith('2')"
   ]
  },
  {
   "cell_type": "code",
   "execution_count": null,
   "id": "132c5a3e",
   "metadata": {},
   "outputs": [],
   "source": [
    "if(len(pp[1:])==2):\n",
    "    if(!pp[1].text.startswith('2') and !pp[-1].text.startswith('2')):\n",
    "        national_rank=pp[1].text.split('\\n')[1]\n",
    "        classs=pp[-1].split('\\n')[1]\n",
    "    else:\n",
    "        state_rank=pp[1].text.split('\\n')[1]\n",
    "        classs=pp[-1].split('\\n')[1]"
   ]
  },
  {
   "cell_type": "code",
   "execution_count": null,
   "id": "ada7884c",
   "metadata": {},
   "outputs": [],
   "source": [
    "if(len(1:)==1):\n",
    "    if(pp[1].text.startswith('2')):\n",
    "        state_rank=pp[1].text.split('\\n')[1]\n",
    "    elif (pp[1].text.startswith('cl')):\n",
    "        classs=pp[1].text.split('\\n')[1]\n",
    "    else:\n",
    "        national_state=pp[1].text.split('\\n')[1]"
   ]
  },
  {
   "cell_type": "code",
   "execution_count": 33,
   "id": "3e5cb9c4",
   "metadata": {},
   "outputs": [],
   "source": [
    "power_index=driver.find_element(By.XPATH, \"//a[@class='c-list-bar__description']\")\n"
   ]
  },
  {
   "cell_type": "code",
   "execution_count": 34,
   "id": "a1e9a244",
   "metadata": {},
   "outputs": [],
   "source": [
    "power_index.click()"
   ]
  },
  {
   "cell_type": "code",
   "execution_count": 35,
   "id": "53824797",
   "metadata": {},
   "outputs": [],
   "source": [
    "events_name=driver.find_elements(By.XPATH,\"//td[@class='u-text-truncate u-text-semi']\")"
   ]
  },
  {
   "cell_type": "code",
   "execution_count": 36,
   "id": "0526cefa",
   "metadata": {},
   "outputs": [
    {
     "data": {
      "text/plain": [
       "'100 L Free'"
      ]
     },
     "execution_count": 36,
     "metadata": {},
     "output_type": "execute_result"
    }
   ],
   "source": [
    "events_name[3].text"
   ]
  },
  {
   "cell_type": "code",
   "execution_count": 37,
   "id": "99f24162",
   "metadata": {},
   "outputs": [],
   "source": [
    "events_time=driver.find_elements(By.XPATH,\"//td[@class='c-table-clean__time u-text-semi']\")\n"
   ]
  },
  {
   "cell_type": "code",
   "execution_count": 38,
   "id": "ae38d7b7",
   "metadata": {},
   "outputs": [
    {
     "data": {
      "text/plain": [
       "'44.67'"
      ]
     },
     "execution_count": 38,
     "metadata": {},
     "output_type": "execute_result"
    }
   ],
   "source": [
    "events_time[2].text"
   ]
  },
  {
   "cell_type": "code",
   "execution_count": 109,
   "id": "4d94ddec",
   "metadata": {
    "scrolled": true
   },
   "outputs": [
    {
     "data": {
      "text/plain": [
       "5"
      ]
     },
     "execution_count": 109,
     "metadata": {},
     "output_type": "execute_result"
    }
   ],
   "source": [
    "# Recruiting\n",
    "recruiting=driver.find_elements(By.XPATH,\"//nav[@class='c-nav c-nav--inline c-nav--responsive']/a\")\n",
    "# recruiting.click()\n",
    "len(recruiting)"
   ]
  },
  {
   "cell_type": "code",
   "execution_count": 111,
   "id": "60d97bec",
   "metadata": {},
   "outputs": [
    {
     "data": {
      "text/plain": [
       "'Recruiting'"
      ]
     },
     "execution_count": 111,
     "metadata": {},
     "output_type": "execute_result"
    }
   ],
   "source": [
    "recruiting[-1].text"
   ]
  },
  {
   "cell_type": "code",
   "execution_count": null,
   "id": "579dd260",
   "metadata": {},
   "outputs": [],
   "source": [
    "\n",
    "//div[@class='u-color-text']"
   ]
  },
  {
   "cell_type": "code",
   "execution_count": 7,
   "id": "3eebd1ab",
   "metadata": {},
   "outputs": [],
   "source": [
    "contacts=driver.find_element(By.XPATH,\"//button[@class='btn btn-primary']\")\n",
    "contacts.click()"
   ]
  },
  {
   "cell_type": "code",
   "execution_count": 8,
   "id": "8b7c97af",
   "metadata": {},
   "outputs": [],
   "source": [
    "contacts_info=driver.find_elements(By.XPATH,\"//div[@class='u-color-text']\")"
   ]
  },
  {
   "cell_type": "code",
   "execution_count": 9,
   "id": "3932feed",
   "metadata": {},
   "outputs": [
    {
     "data": {
      "text/plain": [
       "[<selenium.webdriver.remote.webelement.WebElement (session=\"064728eb57b24520d4aae15995af2ed7\", element=\"9ef77179-6c65-49d7-b786-13cadd8a6625\")>,\n",
       " <selenium.webdriver.remote.webelement.WebElement (session=\"064728eb57b24520d4aae15995af2ed7\", element=\"cb00d51d-d244-448a-9c51-7d5959430e27\")>,\n",
       " <selenium.webdriver.remote.webelement.WebElement (session=\"064728eb57b24520d4aae15995af2ed7\", element=\"ef71872b-e0c2-4bdb-a48f-2259f10ae45a\")>,\n",
       " <selenium.webdriver.remote.webelement.WebElement (session=\"064728eb57b24520d4aae15995af2ed7\", element=\"4b1927de-e3c6-4621-9564-1c1a52061cf0\")>,\n",
       " <selenium.webdriver.remote.webelement.WebElement (session=\"064728eb57b24520d4aae15995af2ed7\", element=\"e91e01ca-9e02-47fb-b1e2-ec000697bab8\")>]"
      ]
     },
     "execution_count": 9,
     "metadata": {},
     "output_type": "execute_result"
    }
   ],
   "source": [
    "contacts_info"
   ]
  },
  {
   "cell_type": "code",
   "execution_count": 10,
   "id": "6a68bbce",
   "metadata": {},
   "outputs": [
    {
     "data": {
      "text/plain": [
       "'alishackell@gmail.com'"
      ]
     },
     "execution_count": 10,
     "metadata": {},
     "output_type": "execute_result"
    }
   ],
   "source": [
    "contacts_info[0].text"
   ]
  },
  {
   "cell_type": "code",
   "execution_count": 67,
   "id": "e163e2c5",
   "metadata": {},
   "outputs": [
    {
     "data": {
      "text/plain": [
       "'gtaylor@piedmontymca.org'"
      ]
     },
     "execution_count": 67,
     "metadata": {},
     "output_type": "execute_result"
    }
   ],
   "source": [
    "contacts_info[1].text"
   ]
  },
  {
   "cell_type": "code",
   "execution_count": 18,
   "id": "bc9dfbf0",
   "metadata": {},
   "outputs": [
    {
     "data": {
      "text/plain": [
       "True"
      ]
     },
     "execution_count": 18,
     "metadata": {},
     "output_type": "execute_result"
    }
   ],
   "source": [
    "contacts_info[-1].text.startswith('+')"
   ]
  },
  {
   "cell_type": "code",
   "execution_count": 17,
   "id": "0b6f0e2e",
   "metadata": {},
   "outputs": [
    {
     "data": {
      "text/plain": [
       "'+16157156635'"
      ]
     },
     "execution_count": 17,
     "metadata": {},
     "output_type": "execute_result"
    }
   ],
   "source": [
    "contacts_info[-1].text"
   ]
  },
  {
   "cell_type": "code",
   "execution_count": 17,
   "id": "63ef6806",
   "metadata": {},
   "outputs": [],
   "source": [
    "contact_dataset={}\n",
    "for i in range(len(contacts_info)):\n",
    "    if contacts_info[i].text.startswith('+'):\n",
    "        contact_dataset['phone']=contacts_info[i].text\n",
    "    else:\n",
    "        email='email'+str(i+1)\n",
    "        contact_dataset[email]=contacts_info[i].text\n",
    "        \n"
   ]
  },
  {
   "cell_type": "code",
   "execution_count": 18,
   "id": "1507bc44",
   "metadata": {},
   "outputs": [
    {
     "data": {
      "text/plain": [
       "{'email1': 'alishackell@gmail.com',\n",
       " 'email2': 'theshackells@comcast.net',\n",
       " 'email3': 'theshackells@comcast.net',\n",
       " 'email4': 'sswingewood@carmelswimclub.org',\n",
       " 'phone': '+16157156635'}"
      ]
     },
     "execution_count": 18,
     "metadata": {},
     "output_type": "execute_result"
    }
   ],
   "source": [
    "contact_dataset"
   ]
  },
  {
   "cell_type": "code",
   "execution_count": null,
   "id": "6c3fe7df",
   "metadata": {},
   "outputs": [],
   "source": [
    "contacts_info=driver.find_elements(By.XPATH,\"//button[@class='btn btn-icon btn-icon-plain u-ml']\")"
   ]
  },
  {
   "cell_type": "code",
   "execution_count": null,
   "id": "80274e89",
   "metadata": {},
   "outputs": [],
   "source": [
    "contacts_info[0].click()"
   ]
  },
  {
   "cell_type": "code",
   "execution_count": null,
   "id": "d730742b",
   "metadata": {},
   "outputs": [],
   "source": [
    "print(pyperclip.paste())"
   ]
  },
  {
   "cell_type": "code",
   "execution_count": null,
   "id": "86284cbd",
   "metadata": {},
   "outputs": [],
   "source": [
    "contacts=driver.find_element(By.XPATH,\"//button[@class='btn btn-primary']\")\n",
    "contacts.click()"
   ]
  },
  {
   "cell_type": "code",
   "execution_count": null,
   "id": "cb1694f8",
   "metadata": {},
   "outputs": [],
   "source": [
    "contacts_info=driver.find_elements(By.XPATH,\"//button[@class='btn btn-icon btn-icon-plain u-ml']\")\n",
    "contacts_info[1].click()\n",
    "print(pyperclip.paste())"
   ]
  },
  {
   "cell_type": "code",
   "execution_count": 41,
   "id": "8823ab3a",
   "metadata": {},
   "outputs": [],
   "source": [
    "def contact_details(link):\n",
    "    import time\n",
    "    contacts=driver.find_element(By.XPATH,\"//button[@class='btn btn-primary']\")\n",
    "    contacts.click()\n",
    "    time.sleep(1)\n",
    "    contacts_info=driver.find_elements(By.XPATH,\"//button[@class='btn btn-icon btn-icon-plain u-ml']\")\n",
    "    contacts_info[link].click()\n",
    "    return pyperclip.paste()\n",
    "    "
   ]
  },
  {
   "cell_type": "code",
   "execution_count": 50,
   "id": "f548b9f2",
   "metadata": {},
   "outputs": [
    {
     "name": "stdout",
     "output_type": "stream",
     "text": [
      "heilmanthomas2025@gmail.com\n"
     ]
    }
   ],
   "source": [
    "email=contact_details(0)\n",
    "print(email)"
   ]
  },
  {
   "cell_type": "code",
   "execution_count": 51,
   "id": "336df369",
   "metadata": {},
   "outputs": [
    {
     "name": "stdout",
     "output_type": "stream",
     "text": [
      "gtaylor@piedmontymca.org\n"
     ]
    }
   ],
   "source": [
    "private_email=contact_details(1)\n",
    "print(private_email)"
   ]
  },
  {
   "cell_type": "code",
   "execution_count": 52,
   "id": "09c1058f",
   "metadata": {},
   "outputs": [
    {
     "name": "stdout",
     "output_type": "stream",
     "text": [
      "chassard@piedmontymca.org\n"
     ]
    }
   ],
   "source": [
    "email3=contact_details(2)\n",
    "print(email3)"
   ]
  },
  {
   "cell_type": "code",
   "execution_count": 53,
   "id": "fe501fc9",
   "metadata": {},
   "outputs": [
    {
     "name": "stdout",
     "output_type": "stream",
     "text": [
      "+14348232585\n"
     ]
    }
   ],
   "source": [
    "phone=contact_details(3)\n",
    "print(phone)"
   ]
  },
  {
   "cell_type": "code",
   "execution_count": 54,
   "id": "c7ec9e16",
   "metadata": {
    "scrolled": true
   },
   "outputs": [],
   "source": [
    "height=driver.find_element(By.XPATH,\"//div [@class='u-mb u-text-large' and contains(.,'Height') ]/span\")"
   ]
  },
  {
   "cell_type": "code",
   "execution_count": 55,
   "id": "25466c57",
   "metadata": {},
   "outputs": [
    {
     "data": {
      "text/plain": [
       "'6 2\"'"
      ]
     },
     "execution_count": 55,
     "metadata": {},
     "output_type": "execute_result"
    }
   ],
   "source": [
    "height.text.replace(\"\\'\",\" \")"
   ]
  },
  {
   "cell_type": "code",
   "execution_count": 56,
   "id": "b94e0ead",
   "metadata": {},
   "outputs": [],
   "source": [
    "personal_infos=driver.find_elements(By.XPATH,\"//div[@class='c-card__item row']/div\")"
   ]
  },
  {
   "cell_type": "code",
   "execution_count": 57,
   "id": "5c364e8d",
   "metadata": {},
   "outputs": [],
   "source": [
    "data=personal_infos[0].text"
   ]
  },
  {
   "cell_type": "code",
   "execution_count": 58,
   "id": "02c63937",
   "metadata": {},
   "outputs": [],
   "source": [
    "def convert_dictionary(data):\n",
    "    key_value_pairs = data.split(\"\\n\")\n",
    "\n",
    "    # Step 2: Split each key-value pair by colon \":\"\n",
    "    key_value_pairs = [pair.split(\": \") for pair in key_value_pairs]\n",
    "\n",
    "    # Step 3: Create an empty dictionary and add the key-value pairs\n",
    "    dictionary = {}\n",
    "    for pair in key_value_pairs:\n",
    "        dictionary[pair[0]] = pair[1]\n",
    "    return dictionary"
   ]
  },
  {
   "cell_type": "code",
   "execution_count": 59,
   "id": "bd4b4833",
   "metadata": {},
   "outputs": [],
   "source": [
    "personal_data=convert_dictionary(data)"
   ]
  },
  {
   "cell_type": "code",
   "execution_count": 60,
   "id": "20c307af",
   "metadata": {},
   "outputs": [
    {
     "data": {
      "text/plain": [
       "{'Hometown': 'Crozet',\n",
       " 'Zipcode': '22932',\n",
       " 'Country': 'USA',\n",
       " 'City': 'Yancey mills, VA',\n",
       " 'Population': '5229',\n",
       " 'Median home': '$379,343',\n",
       " 'Median income': '$75,297'}"
      ]
     },
     "execution_count": 60,
     "metadata": {},
     "output_type": "execute_result"
    }
   ],
   "source": [
    "personal_data"
   ]
  },
  {
   "cell_type": "code",
   "execution_count": 70,
   "id": "84518086",
   "metadata": {},
   "outputs": [
    {
     "data": {
      "text/plain": [
       "'Crozet'"
      ]
     },
     "execution_count": 70,
     "metadata": {},
     "output_type": "execute_result"
    }
   ],
   "source": [
    "personal_data['Hometown']"
   ]
  },
  {
   "cell_type": "code",
   "execution_count": 71,
   "id": "92ef4ce8",
   "metadata": {},
   "outputs": [],
   "source": [
    "data={}"
   ]
  },
  {
   "cell_type": "code",
   "execution_count": 72,
   "id": "65adb947",
   "metadata": {},
   "outputs": [],
   "source": [
    "data['home town']=personal_data['Hometown']"
   ]
  },
  {
   "cell_type": "code",
   "execution_count": 73,
   "id": "7ce9af3a",
   "metadata": {},
   "outputs": [
    {
     "data": {
      "text/plain": [
       "{'home town': 'Crozet'}"
      ]
     },
     "execution_count": 73,
     "metadata": {},
     "output_type": "execute_result"
    }
   ],
   "source": [
    "data"
   ]
  },
  {
   "cell_type": "code",
   "execution_count": null,
   "id": "7efc59ac",
   "metadata": {},
   "outputs": [],
   "source": []
  },
  {
   "cell_type": "code",
   "execution_count": null,
   "id": "054cac0d",
   "metadata": {},
   "outputs": [],
   "source": [
    "//a[@class='c-pagination__action'][2]"
   ]
  },
  {
   "cell_type": "code",
   "execution_count": 112,
   "id": "ec00a963",
   "metadata": {},
   "outputs": [],
   "source": [
    "pages=driver.find_elements(By.XPATH,\"//a[@class='c-pagination__action']\")"
   ]
  },
  {
   "cell_type": "code",
   "execution_count": 115,
   "id": "6df37586",
   "metadata": {},
   "outputs": [
    {
     "data": {
      "text/plain": [
       "'2'"
      ]
     },
     "execution_count": 115,
     "metadata": {},
     "output_type": "execute_result"
    }
   ],
   "source": [
    "pages[0].text"
   ]
  },
  {
   "cell_type": "code",
   "execution_count": null,
   "id": "45969b69",
   "metadata": {},
   "outputs": [],
   "source": []
  },
  {
   "cell_type": "code",
   "execution_count": 16,
   "id": "30c1d8da",
   "metadata": {},
   "outputs": [],
   "source": [
    "# /html/body/div[3]/ul/li[1]\n",
    "contacts=driver.find_element(By.XPATH,\"/html/body/div[3]/ul/li[1]\")"
   ]
  },
  {
   "cell_type": "code",
   "execution_count": 17,
   "id": "b2ea29d6",
   "metadata": {},
   "outputs": [
    {
     "data": {
      "text/plain": [
       "'coachbrentgonzalez@gmail.com\\nBrent Gonzalez\\nSandpipers of Nevada\\nAssistant Coach'"
      ]
     },
     "execution_count": 17,
     "metadata": {},
     "output_type": "execute_result"
    }
   ],
   "source": [
    "contacts.text"
   ]
  },
  {
   "cell_type": "code",
   "execution_count": null,
   "id": "d9db3d69",
   "metadata": {},
   "outputs": [],
   "source": []
  }
 ],
 "metadata": {
  "kernelspec": {
   "display_name": "Python 3 (ipykernel)",
   "language": "python",
   "name": "python3"
  },
  "language_info": {
   "codemirror_mode": {
    "name": "ipython",
    "version": 3
   },
   "file_extension": ".py",
   "mimetype": "text/x-python",
   "name": "python",
   "nbconvert_exporter": "python",
   "pygments_lexer": "ipython3",
   "version": "3.9.13"
  }
 },
 "nbformat": 4,
 "nbformat_minor": 5
}
